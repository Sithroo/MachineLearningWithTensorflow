{
 "cells": [
  {
   "cell_type": "markdown",
   "metadata": {},
   "source": [
    "# Feedforward Neural Network\n",
    "\n",
    "In multinomial classification problems, logistic regression is usually applied with linear features.\n",
    "\n",
    "$\n",
    "\\hat{y} = f(W^Tx) = f(w_0x_0 + w_1x_1 +...+ w_nx_n), \\text{where $f(z) = \\frac{1}{1 + e^{-z}}$}\n",
    "$\n",
    "\n",
    "But this model is not sufficient to fit many complex datasets.\n",
    "One way to increase the efficiency of logistic regression is to introduce more non-linear features to the logistic regression.\n",
    "\n",
    "eg.\n",
    "$\n",
    "\\hat{y} = f(W^Tx) = f(w_0x_0 + w_1x_1 + w_2x_2 + w_3x_1x_2 + w_3 x^{2}_1x_2 + w_4 x^{3}_1x_2 + ....)\n",
    "$\n",
    "\n",
    "\n",
    "But it is not a good solution, as the model may overfit the dataset.\n",
    "Also, additional non-linear features lead to more features to the model and cause computation complexity.\n",
    "\n",
    "This problem can be resolved with Deep Feedforward Neural Network, where each layer of the network solves some part of the classification"
   ]
  },
  {
   "cell_type": "markdown",
   "metadata": {},
   "source": [
    "### Fashion MNIST Dataset with Feedforward Neural Network\n"
   ]
  },
  {
   "cell_type": "markdown",
   "metadata": {},
   "source": [
    "### Load Dataset"
   ]
  },
  {
   "cell_type": "code",
   "execution_count": 4,
   "metadata": {},
   "outputs": [
    {
     "name": "stdout",
     "output_type": "stream",
     "text": [
      "Extracting data/fashion/train-images-idx3-ubyte.gz\n",
      "Extracting data/fashion/train-labels-idx1-ubyte.gz\n",
      "Extracting data/fashion/t10k-images-idx3-ubyte.gz\n",
      "Extracting data/fashion/t10k-labels-idx1-ubyte.gz\n"
     ]
    }
   ],
   "source": [
    "import numpy as np\n",
    "import tensorflow as tf \n",
    "import matplotlib.pyplot as plt\n",
    "from tensorflow.python.framework import ops\n",
    "\n",
    "from tensorflow.examples.tutorials.mnist import input_data\n",
    "\n",
    "# load data\n",
    "data = input_data.read_data_sets('data/fashion', one_hot=True)"
   ]
  },
  {
   "cell_type": "markdown",
   "metadata": {},
   "source": [
    "### Define Variables and Placeholders\n"
   ]
  },
  {
   "cell_type": "code",
   "execution_count": 8,
   "metadata": {},
   "outputs": [],
   "source": [
    "x = tf.placeholder(tf.float32, [None, 784])\n",
    "y = tf.placeholder(tf.float32, [None, 10])\n",
    "\n",
    "W1 = tf.Variable(tf.truncated_normal([784, 200], stddev=0.1))\n",
    "B1 = tf.Variable(tf.zeros([200]))\n",
    "\n",
    "W2 = tf.Variable(tf.truncated_normal([200, 60], stddev=0.1))\n",
    "B2 = tf.Variable(tf.zeros([60]))\n",
    "\n",
    "W3 = tf.Variable(tf.truncated_normal([60, 30], stddev=0.1))\n",
    "B3 = tf.Variable(tf.zeros([30]))\n",
    "\n",
    "W4 = tf.Variable(tf.truncated_normal([30, 10], stddev=0.1))\n",
    "B4 = tf.Variable(tf.zeros([10]))\n"
   ]
  },
  {
   "cell_type": "markdown",
   "metadata": {},
   "source": [
    "### Neural Network Model\n",
    "\n",
    "Unlike linear models, the non-linearity of Neural Network causes it cost function to become non-convex.\n",
    "Therefore, gradient descent does not guarantee convergence.\n",
    "\n",
    "It is sensitive to the initial parameter values. Therefore, weights in Neural Network should be initialize with small random values.\n",
    "\n",
    "The bias values may initialize with zero or small positive numbers.\n",
    "\n",
    "\n"
   ]
  },
  {
   "cell_type": "code",
   "execution_count": 25,
   "metadata": {},
   "outputs": [],
   "source": [
    "Y1 = tf.nn.sigmoid(tf.matmul(x, W1) + B1)\n",
    "Y2 = tf.nn.sigmoid(tf.matmul(Y1, W2) + B2)\n",
    "Y3 = tf.nn.sigmoid(tf.matmul(Y2, W3) + B3)\n",
    "y_hat = tf.nn.softmax(tf.matmul(Y3, W4) + B4)\n",
    "\n",
    "cross_entropy = tf.nn.softmax_cross_entropy_with_logits(logits=y_hat, labels=y)\n",
    "cost = tf.reduce_mean(cross_entropy)\n",
    "\n",
    "\n",
    "learning_rate = 0.1\n",
    "optimizer = tf.train.GradientDescentOptimizer(learning_rate).minimize(cross_entropy)\n",
    "\n",
    "prediction = tf.equal(tf.argmax(y_hat,1), tf.argmax(y,1))\n",
    "accuracy = tf.reduce_mean(tf.cast(prediction, \"float\"))"
   ]
  },
  {
   "cell_type": "markdown",
   "metadata": {},
   "source": [
    "### Model Training\n",
    "\n",
    "The following are the main steps in the algorithm, which is called backpropagation training algorithm.\n",
    "\n",
    "- For each training instance $x^{(i)}$ \n",
    "\n",
    "- Forward pass, compute prediction, $\\hat{y}$\n",
    "    \n",
    "- Compute cost\n",
    "    \n",
    "- Backward pass, go through each layer in reverse to measure the error contribution from each connection\n",
    "    \n",
    "- Tweak the connection weights to reduce error\n",
    "\n",
    "#### Backpropagation \n",
    "\n",
    "Consider a neural network which has 3 output neuron, $O1$, $O2$ and $O3$\n",
    "\n",
    "For each training instance:\n",
    "- Ouput neurons, $O1$, $O2$ and $O3$, result $out_{O1}$, $out_{O2}$ and $out_{O3}$ respectively.\n",
    "- Calculate the error for each output nodes, $E_{O1}$, $E_{O2}$, and $E_{O3}$\n",
    "- So, the total error is, $ E_{total} = E_{O1} + E_{O2} + E_{O3}$\n",
    "- Now consider only the output node $O1$, which has sigmoid activation function, $f(z)$ where $z = w_k.a_k + b_k$\n",
    "- $w_k$ affect on total error is, $\\frac{E_{total}}{\\partial w_k}$\n",
    "- $\\frac{\\partial E_{total}}{\\partial w_k} = \\frac{\\partial E_{total}}{\\partial out_{O1}} .  \\frac{\\partial out_{O1}}{\\partial z} . \\frac{\\partial z}{\\partial w_k} $ \n",
    "- $\\frac{\\partial E_{total}}{\\partial out_{O1}}$ is known\n",
    "- $\\frac{\\partial out_{O1}}{\\partial z} = out_{O1} (1 - out_{O1})$ as $out_{O1} = \\frac{1}{1 + e^{-z}}$\n",
    "- $\\frac{\\partial z}{\\partial w_k} = a_k$ as $z = w_k.a_k + b_k$\n",
    "- So that $\\frac{E_{total}}{\\partial w_k}$ can be measured and update next value of $w_k$ as, $w_k = w_k - \\alpha \\frac{\\partial E_{total}}{\\partial w_k}$\n",
    "- In similar way backpropagation calculate the new values for weights in previous layers\n"
   ]
  },
  {
   "cell_type": "code",
   "execution_count": 27,
   "metadata": {},
   "outputs": [
    {
     "data": {
      "image/png": "[encoded data removed]",
      "text/plain": [
       "<Figure size 1152x360 with 1 Axes>"
      ]
     },
     "metadata": {
      "needs_background": "light"
     },
     "output_type": "display_data"
    },
    {
     "name": "stdout",
     "output_type": "stream",
     "text": [
      "('Train Accuracy:', 0.99523634)\n",
      "('Test Accuracy:', 0.978)\n"
     ]
    }
   ],
   "source": [
    "def plotCost(itrs, costs):\n",
    "    plt.figure(figsize=(16,5))\n",
    "    plt.plot(np.squeeze(costs), color='#2A688B')\n",
    "    plt.xlim(0, itrs-1)\n",
    "    plt.ylabel(\"cost\")\n",
    "    plt.xlabel(\"iterations\")\n",
    "    plt.show()\n",
    "    \n",
    "def train(debug):\n",
    "    costs = []\n",
    "    itrs = 10000\n",
    "    init = tf.global_variables_initializer()\n",
    "    \n",
    "    with tf.Session() as session:\n",
    "        session.run(init)\n",
    "        \n",
    "        for i in range(itrs):\n",
    "            batch_xs, batch_ys = data.train.next_batch(500)\n",
    "            \n",
    "            _, batch_cost = session.run([optimizer, cost], feed_dict={x: batch_xs, y: batch_ys})\n",
    "            costs.append(batch_cost)\n",
    "            \n",
    "            if debug:\n",
    "                print(\"Cost after batch {batch}: {cost}\".format(batch=i, cost=batch_cost))\n",
    "        \n",
    "\n",
    "        plotCost(itrs, costs)\n",
    "        \n",
    "        print(\"Train Accuracy:\", session.run(accuracy, feed_dict={x: data.train.images, y: data.train.labels}))\n",
    "        print(\"Test Accuracy:\", session.run(accuracy, feed_dict={x: data.test.images, y: data.test.labels}))\n",
    "\n",
    "train(False)"
   ]
  },
  {
   "cell_type": "markdown",
   "metadata": {},
   "source": [
    "### Regularization and Tuning\n",
    "In previous result, we see test accuracy of 0.99, which is a sign of overfitting.\n",
    "\n",
    "`dropout` and `learning rate decay` is regularization technique to avoid overfitting.\n",
    "\n"
   ]
  },
  {
   "cell_type": "code",
   "execution_count": 35,
   "metadata": {},
   "outputs": [],
   "source": [
    "pkeep = tf.placeholder(tf.float32)\n",
    "\n",
    "Y1 = tf.nn.sigmoid(tf.matmul(x, W1) + B1)\n",
    "Y1d = tf.nn.dropout(Y1, pkeep)\n",
    "\n",
    "Y2 = tf.nn.sigmoid(tf.matmul(Y1d, W2) + B2)\n",
    "Y3 = tf.nn.sigmoid(tf.matmul(Y2, W3) + B3)\n",
    "y_hat = tf.nn.softmax(tf.matmul(Y3, W4) + B4)\n",
    "\n",
    "cross_entropy = tf.nn.softmax_cross_entropy_with_logits(logits=y_hat, labels=y)\n",
    "cost = tf.reduce_mean(cross_entropy)\n",
    "\n",
    "global_step = tf.Variable(0, trainable=False)\n",
    "learning_rate_start = 0.1\n",
    "learning_rate = tf.train.exponential_decay(learning_rate_start, global_step,\n",
    "                                             5000, 0.96, staircase=True)\n",
    "optimizer = tf.train.GradientDescentOptimizer(learning_rate).minimize(cross_entropy)\n",
    "\n",
    "prediction = tf.equal(tf.argmax(y_hat,1), tf.argmax(y,1))\n",
    "accuracy = tf.reduce_mean(tf.cast(prediction, \"float\"))\n",
    "\n"
   ]
  },
  {
   "cell_type": "code",
   "execution_count": null,
   "metadata": {},
   "outputs": [],
   "source": [
    "def train_with_dropout(debug):\n",
    "    dropout = 0.25\n",
    "    nodropout = 1.0\n",
    "    costs = []\n",
    "    itrs = 10000\n",
    "    init = tf.global_variables_initializer()\n",
    "    \n",
    "    with tf.Session() as session:\n",
    "        session.run(init)\n",
    "        \n",
    "        for i in range(itrs):\n",
    "            batch_xs, batch_ys = data.train.next_batch(500)\n",
    "            \n",
    "            _, batch_cost = session.run([optimizer, cost], feed_dict={x: batch_xs, y: batch_ys, pkeep: dropout})\n",
    "            costs.append(batch_cost)\n",
    "            \n",
    "            if debug:\n",
    "                print(\"Cost after batch {batch}: {cost}\".format(batch=i, cost=batch_cost))\n",
    "        \n",
    "\n",
    "        plotCost(itrs, costs)\n",
    "        \n",
    "        print(\"Train Accuracy:\", session.run(accuracy, feed_dict={x: data.train.images, y: data.train.labels, pkeep: dropout}))\n",
    "        print(\"Test Accuracy:\", session.run(accuracy, feed_dict={x: data.test.images, y: data.test.labels, pkeep: nodropout}))\n",
    "\n",
    "train_with_dropout(False)"
   ]
  },
  {
   "cell_type": "code",
   "execution_count": null,
   "metadata": {},
   "outputs": [],
   "source": [
    "('Train Accuracy:', 0.90007275)\n",
    "('Test Accuracy:', 0.9388)"
   ]
  }
 ],
 "metadata": {
  "kernelspec": {
   "display_name": "Python 2",
   "language": "python",
   "name": "python2"
  },
  "language_info": {
   "codemirror_mode": {
    "name": "ipython",
    "version": 2
   },
   "file_extension": ".py",
   "mimetype": "text/x-python",
   "name": "python",
   "nbconvert_exporter": "python",
   "pygments_lexer": "ipython2",
   "version": "2.7.15"
  }
 },
 "nbformat": 4,
 "nbformat_minor": 2
}
