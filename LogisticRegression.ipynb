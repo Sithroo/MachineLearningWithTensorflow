{
 "cells": [
  {
   "cell_type": "markdown",
   "metadata": {},
   "source": [
    "# Binomial Logistic Regression\n",
    "\n",
    "The goal of binomial logistic regression is to predict the output $ \\hat{y} \\in {1,0}$  from given input $ x \\in {\\rm I\\!R}^{n} $.\n",
    "\n",
    "That is a two class classification problem of features $ x \\in {\\rm I\\!R}^{n} $.\n",
    "\n",
    "We cannot use Linear Regression for the classification problem. \n",
    "\n",
    "The prediction function of Linear Regression can be $ \\hat{y} > 1 or \\hat{y} < 0 $\n",
    "\n",
    "But for the binomial classification problem we need a prediction function, which result 1 or 0.\n",
    "\n",
    "That is,\n",
    "\n",
    "$\n",
    "z = w_{0}x_{0} + w_{1}x_{1} + w_{2}x_{2} .... w_{n}x_{n} \n",
    "$\n",
    "\n",
    "$\n",
    "\\hat{y} = f(z)\n",
    "$\n",
    "where $ f(z) \\in {1,0}$\n",
    "\n",
    "This can be formulated as, the prediction function, $ \\hat{y} $ always results \n",
    "a probability, $  1 \\le  \\hat{y} \\le  0 $ for given features belong to one of the class.\n",
    "\n",
    "The prediction function, $ \\hat{y} $ often use for this problem is `sigmoid` function (a special case of `logistic` function):\n",
    "\n",
    "$\n",
    "f(z) = \\frac{1}{1 + e^{-z}}\n",
    "$, which has the property $  1 \\le  f(z) \\le  0 $\n",
    "\n",
    "So that the prediction function, $ \\hat{y} $ becomes:\n",
    "\n",
    "$\n",
    "\\hat{y} = \\frac{1}{1 + e^{-W^Tx}}\n",
    "$\n"
   ]
  },
  {
   "cell_type": "markdown",
   "metadata": {},
   "source": [
    "## Cost Function\n",
    "\n",
    "We cannot use Mean Square Error (MSE) as the cost function for logistic regression.\n",
    "\n",
    "That is;\n",
    "\n",
    "$\n",
    "J(w) = \\frac{1}{m} \\sum_{i=1}^{m} (\\hat{y}^{(i)}-y^{(i)})^{2}\n",
    "$\n",
    "\n",
    "$\n",
    "J(w) = \\frac{1}{m} \\sum_{i=1}^{m} ( \\frac{1}{1 + e^{-W^Tx^{(i)}}} -y^{(i)})^{2}\n",
    "$\n",
    "\n",
    "$J(w)$ is a non-convex function, which cannot be used in gradient descent as it leads to many local minima.\n",
    "\n",
    "\n",
    "Cost function $J(w)$ for logistic regression should be;\n",
    "- close to 0, when $\\hat{y}$ close to $y$\n",
    "- large value, when $\\hat{y}$ far from $y$\n",
    "\n",
    "This can be achived with the following function;\n",
    "\n",
    "$\n",
    "cost(\\hat{y},y) =\n",
    "\\begin{cases}\n",
    "-log(\\hat{y}^{(i)}),  & \\text{if $y^{(i)}$ = 1} \\\\[2ex]\n",
    "-log(1 - \\hat{y}^{(i)}), & \\text{if $y^{(i)}$ = 0}\n",
    "\\end{cases}\n",
    "$\n",
    "\n",
    "It can be simplified as;\n",
    "\n",
    "$\n",
    "cost(\\hat{y},y) = -y^{(i)}log(\\hat{y}^{(i)}) - (1 - y^{(i)})log(1 - \\hat{y}^{(i)})\n",
    "$\n",
    "\n",
    "which becomes the cost function;\n",
    "\n",
    "$\n",
    "J(w) = -\\frac{1}{m} \\sum_{i=1}^{m} (y^{(i)}log(\\hat{y}^{(i)}) + (1 - y^{(i)})log(1 - \\hat{y}^{(i)}))\n",
    "$\n",
    "\n",
    "## Probabilistic Interpretation of Cost funtion\n",
    "\n",
    "$\n",
    "p(y^{(i)} = 1 | x^{(i)};w) = \\hat{y}^{(i)}\n",
    "$\n",
    "\n",
    "$\n",
    "p(y^{(i)} = 0 | x^{(i)};w) = 1 - \\hat{y}^{(i)}\n",
    "$\n",
    "\n",
    "So the likelihood;\n",
    "\n",
    "$\n",
    "L(w) = p(y | x;w)\n",
    "$\n",
    "\n",
    "It can prove that;\n",
    "\n",
    "$\n",
    "-log(L(w)) = - \\sum_{i=1}^{m} logp(y^{(i)}|x^{(i)};w)) = - \\sum_{i=1}^{m} (y^{(i)}log(\\hat{y}^{(i)}) + (1 - y^{(i)})log(1 - \\hat{y}^{(i)}))\n",
    "$\n",
    "\n",
    "The negative log-likelihood is called `cross-entropy`.\n"
   ]
  },
  {
   "cell_type": "markdown",
   "metadata": {},
   "source": [
    "## Learn Model Parameters with Gradient Descent\n",
    "\n",
    "Repeat until converge {\n",
    "    \n",
    "$   \n",
    "    w_{i} := w_{i} - \\alpha\\frac{\\partial J(w)}{\\partial w_{i}}, \\text{where $\\alpha$ is learning and $w_{i}$ for $i = 1..n$ (n is the number of features) is simultaneously updated.}\n",
    "$   \n",
    "    \n",
    "}\n",
    "\n",
    "\n",
    "\n",
    "\n",
    "$\n",
    "\\frac{\\partial J(w)}{\\partial w_{j}} = \\frac{1}{m}\\sum_{i=1}^{m}(\\hat{y}^{(i)} - y^{(i)})x_{j}\n",
    "$\n",
    "\n"
   ]
  },
  {
   "cell_type": "markdown",
   "metadata": {},
   "source": [
    "## Performance Measure of Classification algorithms\n",
    "\n",
    "The result of a classification problem can be categoried as;\n",
    "\n",
    "- True Positive (TP): $y$ is positive and the prediction $\\hat{y}$ is also positive\n",
    "- True Negative (TN): $y$ is negative and the prediction $\\hat{y}$ is also negative\n",
    "- False Positive (FP): $y$ is negative and the prediction $\\hat{y}$ is positive\n",
    "- False Negative (FN): $y$ is positive and the prediction $\\hat{y}$ is negative\n",
    "\n",
    "`Acuracy` measures how close the prediction to the true value.\n",
    "\n",
    "`precision` and `recall` are used to measure the acuracy of a classification model.\n",
    "\n",
    "$\n",
    "precision = \\frac{TP}{TP + FP} = \\frac{\\text{true positive}}{\\text{no of predicted positive}}\n",
    "$\n",
    "\n",
    "$\n",
    "recall = \\frac{TP}{TP + FN} = \\frac{\\text{true positive}}{\\text{no of actual positive}}\n",
    "$"
   ]
  },
  {
   "cell_type": "markdown",
   "metadata": {},
   "source": [
    "# Multinomial Logistic Regression\n",
    "\n",
    "There are multiple lables, $y \\in {1,2,...,k}$ in multinomial classifer.\n",
    "\n",
    "The prediction function, $\\hat{y}$ is needed to estimate for each label;\n",
    "\n",
    "$\n",
    "\\hat{y}_j = p(y = j | x;w)\n",
    "$\n",
    "\n",
    "`Softmax` function is used as the prediction function, $\\hat{y}$;\n",
    "\n",
    "$\n",
    "\\hat{y}_j = p(y = j | x;w_j) = f(w^{T}_j x) = \\frac{e^w_jx}{\\sum_{i=1}^{k} e^w_i x}\n",
    "$\n",
    "\n",
    "`Softmax function for two classes is equal to the sigmoid function`"
   ]
  },
  {
   "cell_type": "markdown",
   "metadata": {},
   "source": [
    "## Softmax Classification for Fashion MNIST Dataset\n",
    "\n",
    "\n",
    "[Fashion MNIST](https://github.com/zalandoresearch/fashion-mnist/blob/master/README.md#to-serious-machine-learning-researchers) dataset contains images of clothing items such as shirts, shoes, coats, etc. \n",
    "\n",
    "Each picture of MNIST is labled a number from 0 to 9;\n",
    "\n",
    "| Label | Description |\n",
    "| --- | --- |\n",
    "| 0 | T-shirt/top |\n",
    "| 1 | Trouser |\n",
    "| 2 | Pullover |\n",
    "| 3 | Dress |\n",
    "| 4 | Coat |\n",
    "| 5 | Sandal |\n",
    "| 6 | Shirt |\n",
    "| 7 | Sneaker |\n",
    "| 8 | Bag |\n",
    "| 9 | Ankle boot |\n",
    "\n",
    "We are going to use Softmax classifer to predict each image.\n",
    "\n",
    "\n"
   ]
  },
  {
   "cell_type": "markdown",
   "metadata": {},
   "source": [
    "### Load Dataset"
   ]
  },
  {
   "cell_type": "code",
   "execution_count": 6,
   "metadata": {},
   "outputs": [
    {
     "name": "stdout",
     "output_type": "stream",
     "text": [
      "Successfully downloaded train-images-idx3-ubyte.gz 9912422 bytes.\n",
      "Extracting data/fashion/train-images-idx3-ubyte.gz\n",
      "Successfully downloaded train-labels-idx1-ubyte.gz 28881 bytes.\n",
      "Extracting data/fashion/train-labels-idx1-ubyte.gz\n",
      "Successfully downloaded t10k-images-idx3-ubyte.gz 1648877 bytes.\n",
      "Extracting data/fashion/t10k-images-idx3-ubyte.gz\n",
      "Successfully downloaded t10k-labels-idx1-ubyte.gz 4542 bytes.\n",
      "Extracting data/fashion/t10k-labels-idx1-ubyte.gz\n"
     ]
    }
   ],
   "source": [
    "import numpy as np\n",
    "import tensorflow as tf \n",
    "import matplotlib.pyplot as plt\n",
    "from tensorflow.python.framework import ops\n",
    "\n",
    "from tensorflow.examples.tutorials.mnist import input_data\n",
    "\n",
    "# load data\n",
    "data = input_data.read_data_sets('data/fashion', one_hot=True)"
   ]
  },
  {
   "cell_type": "markdown",
   "metadata": {},
   "source": [
    "### Define Variables and Placeholders"
   ]
  },
  {
   "cell_type": "code",
   "execution_count": 23,
   "metadata": {},
   "outputs": [],
   "source": [
    "x = tf.placeholder(tf.float32, [None, 784])\n",
    "y = tf.placeholder(tf.float32, [None, 10])\n",
    "W = tf.Variable(tf.zeros([784, 10]))\n",
    "b = tf.Variable(tf.zeros([10]))"
   ]
  },
  {
   "cell_type": "markdown",
   "metadata": {},
   "source": [
    "### Softmax Regression Model\n",
    "\n",
    "First, weight the sum of pixel intensities (with a bias value) of x, being in a certain label.\n",
    "Then tf.nn.softmax() converts the value to a predicted probability value, $\\hat{y}$.\n",
    "softmax acts as an prediction function, that transforms the output of the linear function, \n",
    "Wx + b, into a probability distribution over 10 classes.\n",
    "\n"
   ]
  },
  {
   "cell_type": "code",
   "execution_count": 24,
   "metadata": {},
   "outputs": [],
   "source": [
    "y_hat = tf.nn.softmax(tf.matmul(x, W) + b) \n",
    "\n",
    "cross_entropy = -tf.reduce_sum(y*tf.log(y_hat))\n",
    "\n",
    "learning_rate = 0.01\n",
    "optimizer = tf.train.GradientDescentOptimizer(learning_rate).minimize(cross_entropy)\n",
    "\n",
    "prediction = tf.equal(tf.argmax(y_hat,1), tf.argmax(y,1))\n",
    "accuracy = tf.reduce_mean(tf.cast(prediction, \"float\"))"
   ]
  },
  {
   "cell_type": "markdown",
   "metadata": {},
   "source": [
    "### Model Training"
   ]
  },
  {
   "cell_type": "code",
   "execution_count": 42,
   "metadata": {},
   "outputs": [
    {
     "data": {
      "image/png": "[encoded data removed]",
      "text/plain": [
       "<Figure size 1152x360 with 1 Axes>"
      ]
     },
     "metadata": {
      "needs_background": "light"
     },
     "output_type": "display_data"
    },
    {
     "name": "stdout",
     "output_type": "stream",
     "text": [
      "('Train Accuracy:', 0.9199091)\n",
      "('Test Accuracy:', 0.9174)\n"
     ]
    }
   ],
   "source": [
    "def plotCost(itrs, costs):\n",
    "    plt.figure(figsize=(16,5))\n",
    "    plt.plot(np.squeeze(costs), color='#2A688B')\n",
    "    plt.xlim(0, itrs-1)\n",
    "    plt.ylabel(\"cost\")\n",
    "    plt.xlabel(\"iterations\")\n",
    "    plt.show()\n",
    "    \n",
    "def train(debug):\n",
    "    costs = []\n",
    "    itrs = 1000\n",
    "    init = tf.global_variables_initializer()\n",
    "    \n",
    "    with tf.Session() as session:\n",
    "        session.run(init)\n",
    "        \n",
    "        for i in range(itrs):\n",
    "            batch_xs, batch_ys = data.train.next_batch(100)\n",
    "            \n",
    "            _, batch_cost = session.run([optimizer, cross_entropy], feed_dict={x: batch_xs, y: batch_ys})\n",
    "            costs.append(batch_cost)\n",
    "            \n",
    "            if debug:\n",
    "                print(\"Cost after batch {batch}: {cost}\".format(batch=i, cost=batch_cost))\n",
    "        \n",
    "\n",
    "        plotCost(itrs, costs)\n",
    "        \n",
    "        print(\"Train Accuracy:\", session.run(accuracy, feed_dict={x: data.train.images, y: data.train.labels}))\n",
    "        print(\"Test Accuracy:\", session.run(accuracy, feed_dict={x: data.test.images, y: data.test.labels}))\n",
    "\n",
    "train(False)\n"
   ]
  }
 ],
 "metadata": {
  "kernelspec": {
   "display_name": "Python 2",
   "language": "python",
   "name": "python2"
  },
  "language_info": {
   "codemirror_mode": {
    "name": "ipython",
    "version": 2
   },
   "file_extension": ".py",
   "mimetype": "text/x-python",
   "name": "python",
   "nbconvert_exporter": "python",
   "pygments_lexer": "ipython2",
   "version": "2.7.15"
  }
 },
 "nbformat": 4,
 "nbformat_minor": 2
}
